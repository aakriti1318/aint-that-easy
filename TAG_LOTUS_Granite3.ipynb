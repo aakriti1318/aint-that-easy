{
 "cells": [
  {
   "cell_type": "code",
   "execution_count": null,
   "metadata": {},
   "outputs": [],
   "source": [
    "!pip install lotus-ai botocore langchain"
   ]
  },
  {
   "cell_type": "markdown",
   "metadata": {},
   "source": [
    "## 1. Import Required Libraries"
   ]
  },
  {
   "cell_type": "code",
   "execution_count": null,
   "metadata": {},
   "outputs": [],
   "source": [
    "import pandas as pd\n",
    "from lotus.models import E5Model\n",
    "import lotus\n",
    "from ibm_watsonx_ai.foundation_models import Model\n",
    "from ibm_watsonx_ai.credentials import Credentials\n",
    "from langchain.llms.base import LLM\n",
    "from typing import Optional, List, Dict, Any, Union\n",
    "import ibm_boto3\n",
    "from botocore.client import Config\n",
    "from pydantic import Field, BaseModel"
   ]
  },
  {
   "cell_type": "markdown",
   "metadata": {},
   "source": [
    "## 2. Granite LLM Implementation\n",
    "\n",
    "This class implements the custom LLM for IBM Watson Granite 3.0 with TAG formatting."
   ]
  },
  {
   "cell_type": "code",
   "execution_count": null,
   "metadata": {},
   "outputs": [],
   "source": [
    "model_id = \"ibm/granite-3-8b-instruct\"\n",
    "parameters = {\n",
    "            \"decoding_method\": \"sample\",\n",
    "            \"max_new_tokens\": 1000,\n",
    "            \"min_new_tokens\": 1,\n",
    "            \"temperature\": 0.7,\n",
    "            \"top_k\": 50,\n",
    "            \"top_p\": 1,\n",
    "            \"repetition_penalty\": 1\n",
    "        }\n",
    "\n",
    "\n",
    "api_key = \"\"\n",
    "project_id = \"\"\n",
    "url = \"\"\n",
    "\n",
    "credentials = Credentials(url=url, api_key=api_key)\n",
    "\n",
    "ibm_model = Model(\n",
    "    model_id=model_id,\n",
    "    params=parameters,\n",
    "    credentials=credentials,\n",
    "    project_id=project_id\n",
    ")\n",
    "\n",
    "class IBMWatsonLLM(LLM):\n",
    "    def _call(self, prompt: str, stop: Optional[List[str]] = None) -> str:\n",
    "        return ibm_model.generate_text(prompt=prompt, guardrails=False)\n",
    "\n",
    "    @property\n",
    "    def _llm_type(self) -> str:\n",
    "        return \"ibm_watson\"\n",
    "\n",
    "    def generate_text(self, prompt):\n",
    "        return self._call(prompt)"
   ]
  },
  {
   "cell_type": "markdown",
   "metadata": {},
   "source": [
    "## 3. LOTUS Configuration"
   ]
  },
  {
   "cell_type": "code",
   "execution_count": null,
   "metadata": {},
   "outputs": [],
   "source": [
    "lm = IBMWatsonLLM()\n",
    "\n",
    "rm = E5Model(device=\"cpu\")\n",
    "\n",
    "lotus.settings.configure(lm=lm, rm=rm)"
   ]
  },
  {
   "cell_type": "code",
   "execution_count": null,
   "metadata": {},
   "outputs": [],
   "source": [
    "# When needed, we can also alter other configurations managed by the settings module\n",
    "lotus.settings.keys()"
   ]
  },
  {
   "cell_type": "markdown",
   "metadata": {},
   "source": [
    "## 4. Load Data"
   ]
  },
  {
   "cell_type": "markdown",
   "metadata": {},
   "source": [
    "### using pandas dataframe"
   ]
  },
  {
   "cell_type": "code",
   "execution_count": null,
   "metadata": {},
   "outputs": [],
   "source": [
    "df = pd.read_csv('movies.csv')\n",
    "df.head()"
   ]
  },
  {
   "cell_type": "markdown",
   "metadata": {},
   "source": [
    "### using IBM COS"
   ]
  },
  {
   "cell_type": "code",
   "execution_count": null,
   "metadata": {},
   "outputs": [],
   "source": [
    "import os, types\n",
    "import pandas as pd\n",
    "from botocore.client import Config\n",
    "import ibm_boto3\n",
    "\n",
    "def __iter__(self): return 0\n",
    "\n",
    "# @hidden_cell\n",
    "# The following code accesses a file in your IBM Cloud Object Storage. It includes your credentials.\n",
    "# You might want to remove those credentials before you share the notebook.\n",
    "\n",
    "cos_client = ibm_boto3.client(service_name='s3',\n",
    "    ibm_api_key_id='',\n",
    "    ibm_auth_endpoint=\"\",\n",
    "    config=Config(signature_version='oauth'),\n",
    "    endpoint_url='')\n",
    "\n",
    "bucket = ''\n",
    "object_key = 'movies.csv'\n",
    "\n",
    "body = cos_client.get_object(Bucket=bucket,Key=object_key)['Body']\n",
    "# add missing __iter__ method, so pandas accepts body as file-like object\n",
    "if not hasattr(body, \"__iter__\"): body.__iter__ = types.MethodType( __iter__, body )\n",
    "\n",
    "df_1 = pd.read_csv(body)\n",
    "df_1.head(10)"
   ]
  },
  {
   "cell_type": "markdown",
   "metadata": {},
   "source": [
    "## 5. Preprocessing Data"
   ]
  },
  {
   "cell_type": "code",
   "execution_count": 7,
   "metadata": {},
   "outputs": [],
   "source": [
    "import ast\n",
    "\n",
    "def clean_text_field(field):\n",
    "    if pd.isna(field):\n",
    "        return \"\"\n",
    "    if isinstance(field, str):\n",
    "        try:\n",
    "            evaluated = ast.literal_eval(field)\n",
    "            if isinstance(evaluated, list):\n",
    "                return \" \".join(str(item) for item in evaluated)\n",
    "            elif isinstance(evaluated, dict):\n",
    "                return \" \".join(str(value) for value in evaluated.values())\n",
    "        except:\n",
    "            return field\n",
    "    return str(field)\n",
    "\n",
    "# Clean the dataframe\n",
    "def prepare_df_for_semantic_search(df):\n",
    "    clean_df = df.copy()\n",
    "    text_columns = ['overview', 'genres', 'keywords', 'cast', 'director', 'title']\n",
    "    for col in text_columns:\n",
    "        if col in clean_df.columns:\n",
    "            clean_df[col] = clean_df[col].apply(clean_text_field)\n",
    "    \n",
    "    return clean_df\n",
    "\n",
    "# Prepare the data\n",
    "clean_df = prepare_df_for_semantic_search(df)"
   ]
  },
  {
   "cell_type": "markdown",
   "metadata": {},
   "source": [
    "## 6. Semantic Operators\n",
    "\n",
    "Semantic operators are a key component in the LOTUS programming model. Semantic operators extend the relational model with AI-based operations that users can compose into powerful, reasoning-based query pipelines over structured and unstructured data."
   ]
  },
  {
   "cell_type": "markdown",
   "metadata": {},
   "source": [
    "### 6.1. Semantic Indexing and Semantic Search\n",
    "Semantic indexing allows us to perform semantic search over a column. Semantic search performs a top K similarity search over a column. "
   ]
  },
  {
   "cell_type": "code",
   "execution_count": 8,
   "metadata": {},
   "outputs": [
    {
     "name": "stdout",
     "output_type": "stream",
     "text": [
      "Creating overview index...\n"
     ]
    },
    {
     "name": "stderr",
     "output_type": "stream",
     "text": [
      "100%|██████████| 21/21 [01:02<00:00,  2.96s/it]\n"
     ]
    },
    {
     "name": "stdout",
     "output_type": "stream",
     "text": [
      "\n",
      "Creating title index...\n"
     ]
    },
    {
     "name": "stderr",
     "output_type": "stream",
     "text": [
      "100%|██████████| 21/21 [00:05<00:00,  3.73it/s]\n"
     ]
    },
    {
     "name": "stdout",
     "output_type": "stream",
     "text": [
      "\n",
      "Performing semantic searches...\n"
     ]
    },
    {
     "name": "stderr",
     "output_type": "stream",
     "text": [
      "100%|██████████| 1/1 [00:00<00:00, 16.98it/s]\n"
     ]
    },
    {
     "name": "stdout",
     "output_type": "stream",
     "text": [
      "\n",
      "Results for searching 'space exploration' in overview:\n",
      "          title                                           overview\n",
      "220  Prometheus  A team of explorers discover a clue to the ori...\n",
      "549      Sphere  The OSSA discovers a spacecraft thought to be ...\n"
     ]
    },
    {
     "name": "stderr",
     "output_type": "stream",
     "text": [
      "100%|██████████| 1/1 [00:00<00:00, 17.99it/s]"
     ]
    },
    {
     "name": "stdout",
     "output_type": "stream",
     "text": [
      "\n",
      "Results for searching 'adventure movies' in title:\n",
      "                title            title\n",
      "1428  Superhero Movie  Superhero Movie\n",
      "305   Treasure Planet  Treasure Planet\n"
     ]
    },
    {
     "name": "stderr",
     "output_type": "stream",
     "text": [
      "\n"
     ]
    },
    {
     "data": {
      "text/html": [
       "<div>\n",
       "<style scoped>\n",
       "    .dataframe tbody tr th:only-of-type {\n",
       "        vertical-align: middle;\n",
       "    }\n",
       "\n",
       "    .dataframe tbody tr th {\n",
       "        vertical-align: top;\n",
       "    }\n",
       "\n",
       "    .dataframe thead th {\n",
       "        text-align: right;\n",
       "    }\n",
       "</style>\n",
       "<table border=\"1\" class=\"dataframe\">\n",
       "  <thead>\n",
       "    <tr style=\"text-align: right;\">\n",
       "      <th></th>\n",
       "      <th>index</th>\n",
       "      <th>budget</th>\n",
       "      <th>genres</th>\n",
       "      <th>id</th>\n",
       "      <th>keywords</th>\n",
       "      <th>original_title</th>\n",
       "      <th>overview</th>\n",
       "      <th>popularity</th>\n",
       "      <th>release_date</th>\n",
       "      <th>revenue</th>\n",
       "      <th>runtime</th>\n",
       "      <th>spoken_languages</th>\n",
       "      <th>tagline</th>\n",
       "      <th>title</th>\n",
       "      <th>vote_average</th>\n",
       "      <th>vote_count</th>\n",
       "      <th>cast</th>\n",
       "      <th>director</th>\n",
       "    </tr>\n",
       "  </thead>\n",
       "  <tbody>\n",
       "    <tr>\n",
       "      <th>1428</th>\n",
       "      <td>1428</td>\n",
       "      <td>35000000</td>\n",
       "      <td>Action Comedy Science Fiction</td>\n",
       "      <td>11918</td>\n",
       "      <td>anti hero high school dragonfly superhero radi...</td>\n",
       "      <td>Superhero Movie</td>\n",
       "      <td>The team behind Scary Movie takes on the comic...</td>\n",
       "      <td>19.088655</td>\n",
       "      <td>27/03/08</td>\n",
       "      <td>25871834</td>\n",
       "      <td>85</td>\n",
       "      <td>[{\"iso_639_1\": \"en\", \"name\": \"English\"}]</td>\n",
       "      <td>The greatest Superhero movie of all time! (not...</td>\n",
       "      <td>Superhero Movie</td>\n",
       "      <td>4.9</td>\n",
       "      <td>379</td>\n",
       "      <td>Drake Bell Sara Paxton Leslie Nielsen Christop...</td>\n",
       "      <td>Craig Mazin</td>\n",
       "    </tr>\n",
       "    <tr>\n",
       "      <th>305</th>\n",
       "      <td>305</td>\n",
       "      <td>140000000</td>\n",
       "      <td>Adventure Animation Family Fantasy Science Fic...</td>\n",
       "      <td>9016</td>\n",
       "      <td>cyborg based on novel space marine mutiny loss...</td>\n",
       "      <td>Treasure Planet</td>\n",
       "      <td>When space galleon cabin boy Jim Hawkins disco...</td>\n",
       "      <td>38.924136</td>\n",
       "      <td>26/11/02</td>\n",
       "      <td>109578115</td>\n",
       "      <td>95</td>\n",
       "      <td>[{\"iso_639_1\": \"en\", \"name\": \"English\"}]</td>\n",
       "      <td>Find your place in the universe.</td>\n",
       "      <td>Treasure Planet</td>\n",
       "      <td>7.2</td>\n",
       "      <td>948</td>\n",
       "      <td>Joseph Gordon-Levitt Brian Murray David Hyde P...</td>\n",
       "      <td>Ron Clements</td>\n",
       "    </tr>\n",
       "  </tbody>\n",
       "</table>\n",
       "</div>"
      ],
      "text/plain": [
       "      index     budget                                             genres  \\\n",
       "1428   1428   35000000                      Action Comedy Science Fiction   \n",
       "305     305  140000000  Adventure Animation Family Fantasy Science Fic...   \n",
       "\n",
       "         id                                           keywords  \\\n",
       "1428  11918  anti hero high school dragonfly superhero radi...   \n",
       "305    9016  cyborg based on novel space marine mutiny loss...   \n",
       "\n",
       "       original_title                                           overview  \\\n",
       "1428  Superhero Movie  The team behind Scary Movie takes on the comic...   \n",
       "305   Treasure Planet  When space galleon cabin boy Jim Hawkins disco...   \n",
       "\n",
       "      popularity release_date    revenue  runtime  \\\n",
       "1428   19.088655     27/03/08   25871834       85   \n",
       "305    38.924136     26/11/02  109578115       95   \n",
       "\n",
       "                              spoken_languages  \\\n",
       "1428  [{\"iso_639_1\": \"en\", \"name\": \"English\"}]   \n",
       "305   [{\"iso_639_1\": \"en\", \"name\": \"English\"}]   \n",
       "\n",
       "                                                tagline            title  \\\n",
       "1428  The greatest Superhero movie of all time! (not...  Superhero Movie   \n",
       "305                    Find your place in the universe.  Treasure Planet   \n",
       "\n",
       "      vote_average  vote_count  \\\n",
       "1428           4.9         379   \n",
       "305            7.2         948   \n",
       "\n",
       "                                                   cast      director  \n",
       "1428  Drake Bell Sara Paxton Leslie Nielsen Christop...   Craig Mazin  \n",
       "305   Joseph Gordon-Levitt Brian Murray David Hyde P...  Ron Clements  "
      ]
     },
     "execution_count": 8,
     "metadata": {},
     "output_type": "execute_result"
    }
   ],
   "source": [
    "\n",
    "# Create semantic indices one at a time\n",
    "# Overview index\n",
    "try:\n",
    "    print(\"Creating overview index...\")\n",
    "    clean_df = clean_df.sem_index(\"overview\", \"movie_overview_index\")\n",
    "except Exception as e:\n",
    "    print(f\"Error creating overview index: {str(e)}\")\n",
    "\n",
    "# Title index\n",
    "try:\n",
    "    print(\"\\nCreating title index...\")\n",
    "    clean_df = clean_df.sem_index(\"title\", \"movie_title_index\")\n",
    "except Exception as e:\n",
    "    print(f\"Error creating title index: {str(e)}\")\n",
    "\n",
    "# Example searches\n",
    "def safe_semantic_search(df, column, query, k=2):\n",
    "    try:\n",
    "        results = df.sem_search(column, query, K=k)\n",
    "        print(f\"\\nResults for searching '{query}' in {column}:\")\n",
    "        print(results[['title', column]])\n",
    "        return results\n",
    "    except Exception as e:\n",
    "        print(f\"Error performing semantic search: {str(e)}\")\n",
    "        return None\n",
    "\n",
    "# Example usage:\n",
    "print(\"\\nPerforming semantic searches...\")\n",
    "\n",
    "# Search by overview\n",
    "safe_semantic_search(clean_df, \"overview\", \"space exploration\")\n",
    "\n",
    "# Search by title\n",
    "safe_semantic_search(clean_df, \"title\", \"adventure movies\")"
   ]
  }
 ],
 "metadata": {
  "kernelspec": {
   "display_name": "incose",
   "language": "python",
   "name": "python3"
  },
  "language_info": {
   "codemirror_mode": {
    "name": "ipython",
    "version": 3
   },
   "file_extension": ".py",
   "mimetype": "text/x-python",
   "name": "python",
   "nbconvert_exporter": "python",
   "pygments_lexer": "ipython3",
   "version": "3.12.4"
  }
 },
 "nbformat": 4,
 "nbformat_minor": 1
}
